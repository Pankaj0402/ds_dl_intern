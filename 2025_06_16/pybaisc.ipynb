{
 "cells": [
  {
   "cell_type": "code",
   "execution_count": 1,
   "id": "e0219feb-d795-4b98-a8f3-c03652ccb141",
   "metadata": {},
   "outputs": [],
   "source": [
    "randomList = (1 , 2, 3 ,4 ,5, 6)"
   ]
  },
  {
   "cell_type": "code",
   "execution_count": 2,
   "id": "7a668299-7532-4381-b345-62825cc718fa",
   "metadata": {},
   "outputs": [
    {
     "name": "stdout",
     "output_type": "stream",
     "text": [
      "The final answer is: 15\n"
     ]
    }
   ],
   "source": [
    "result = 1\n",
    "for _ in randomList:\n",
    "    if _ % 2 != 0:\n",
    "        result *= _\n",
    "print (f'The final answer is: {result}')"
   ]
  },
  {
   "cell_type": "markdown",
   "id": "95e90ee0-c586-4638-b962-270025a94cd4",
   "metadata": {},
   "source": [
    "### NUMPY"
   ]
  },
  {
   "cell_type": "code",
   "execution_count": null,
   "id": "593927c1-53c5-4e3e-ad3a-6fe5da17802e",
   "metadata": {},
   "outputs": [],
   "source": [
    "import numpy as np"
   ]
  }
 ],
 "metadata": {
  "kernelspec": {
   "display_name": "Python 3 (ipykernel)",
   "language": "python",
   "name": "python3"
  },
  "language_info": {
   "codemirror_mode": {
    "name": "ipython",
    "version": 3
   },
   "file_extension": ".py",
   "mimetype": "text/x-python",
   "name": "python",
   "nbconvert_exporter": "python",
   "pygments_lexer": "ipython3",
   "version": "3.13.5"
  }
 },
 "nbformat": 4,
 "nbformat_minor": 5
}
